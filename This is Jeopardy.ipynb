{
 "cells": [
  {
   "cell_type": "markdown",
   "metadata": {},
   "source": [
    "# This is Jeopardy!"
   ]
  },
  {
   "cell_type": "markdown",
   "metadata": {},
   "source": [
    "#### Overview"
   ]
  },
  {
   "cell_type": "markdown",
   "metadata": {},
   "source": [
    "This project is slightly different than others you have encountered thus far. Instead of a step-by-step tutorial, this project contains a series of open-ended requirements which describe the project you'll be building. There are many possible ways to correctly fulfill all of these requirements, and you should expect to use the internet, Codecademy, and/or other resources when you encounter a problem that you cannot easily solve."
   ]
  },
  {
   "cell_type": "markdown",
   "metadata": {},
   "source": [
    "#### Project Goals"
   ]
  },
  {
   "cell_type": "markdown",
   "metadata": {},
   "source": [
    "You will work to write several functions that investigate a dataset of _Jeopardy!_ questions and answers. Filter the dataset for topics that you're interested in, compute the average difficulty of those questions, and train to become the next Jeopardy champion!"
   ]
  },
  {
   "cell_type": "markdown",
   "metadata": {},
   "source": [
    "## Prerequisites"
   ]
  },
  {
   "cell_type": "markdown",
   "metadata": {},
   "source": [
    "In order to complete this project, you should have completed the Pandas lessons in the <a href=\"https://www.codecademy.com/learn/paths/analyze-data-with-python\">Analyze Data with Python Skill Path</a>. You can also find those lessons in the <a href=\"https://www.codecademy.com/learn/data-processing-pandas\">Data Analysis with Pandas course</a> or the <a href=\"https://www.codecademy.com/learn/paths/data-science/\">Data Scientist Career Path</a>.\n",
    "\n",
    "Finally, the <a href=\"https://www.codecademy.com/learn/practical-data-cleaning\">Practical Data Cleaning</a> course may also be helpful."
   ]
  },
  {
   "cell_type": "markdown",
   "metadata": {},
   "source": [
    "## Project Requirements"
   ]
  },
  {
   "cell_type": "markdown",
   "metadata": {},
   "source": [
    "1. We've provided a csv file containing data about the game show _Jeopardy!_ in a file named `jeopardy.csv`. Load the data into a DataFrame and investigate its contents. Try to print out specific columns.\n",
    "\n",
    "   Note that in order to make this project as \"real-world\" as possible, we haven't modified the data at all - we're giving it to you exactly how we found it. As a result, this data isn't as \"clean\" as the datasets you normally find on Codecademy. More specifically, there's something odd about the column names. After you figure out the problem with the column names, you may want to rename them to make your life easier for the rest of the project.\n",
    "   \n",
    "   In order to display the full contents of a column, we've added this line of code for you:\n",
    "   \n",
    "   ```py\n",
    "   pd.set_option('display.max_colwidth', None)\n",
    "   ```"
   ]
  },
  {
   "cell_type": "code",
   "execution_count": 1,
   "metadata": {},
   "outputs": [
    {
     "name": "stdout",
     "output_type": "stream",
     "text": [
      "Index(['Show Number', ' Air Date', ' Round', ' Category', ' Value',\n",
      "       ' Question', ' Answer'],\n",
      "      dtype='object')\n",
      "   show_number    air_date      round                         category value  \\\n",
      "0         4680  2004-12-31  Jeopardy!                          HISTORY  $200   \n",
      "1         4680  2004-12-31  Jeopardy!  ESPN's TOP 10 ALL-TIME ATHLETES  $200   \n",
      "2         4680  2004-12-31  Jeopardy!      EVERYBODY TALKS ABOUT IT...  $200   \n",
      "3         4680  2004-12-31  Jeopardy!                 THE COMPANY LINE  $200   \n",
      "4         4680  2004-12-31  Jeopardy!              EPITAPHS & TRIBUTES  $200   \n",
      "\n",
      "                                                                                                        answer  \\\n",
      "0             For the last 8 years of his life, Galileo was under house arrest for espousing this man's theory   \n",
      "1  No. 2: 1912 Olympian; football star at Carlisle Indian School; 6 MLB seasons with the Reds, Giants & Braves   \n",
      "2                     The city of Yuma in this state has a record average of 4,055 hours of sunshine each year   \n",
      "3                         In 1963, live on \"The Art Linkletter Show\", this company served its billionth burger   \n",
      "4     Signer of the Dec. of Indep., framer of the Constitution of Mass., second President of the United States   \n",
      "\n",
      "     question  \n",
      "0  Copernicus  \n",
      "1  Jim Thorpe  \n",
      "2     Arizona  \n",
      "3  McDonald's  \n",
      "4  John Adams  \n"
     ]
    }
   ],
   "source": [
    "import pandas as pd\n",
    "pd.set_option('display.max_colwidth', None)\n",
    "\n",
    "jeopardy = pd.read_csv('jeopardy.csv')\n",
    "\n",
    "# investigating column names to learn original in order to rename to more python friendly version\n",
    "print(jeopardy.columns)\n",
    "\n",
    "# renaming the columns to make them easier to call and fixing the columns Question and Answer as Jeopardy!'s format is that the question/clue that is provided is the \"answer\" and the response the contestant's give is the \"question\"\n",
    "jeopardy.rename(columns = {'Show Number': 'show_number', ' Air Date': 'air_date', ' Round': 'round', ' Category': 'category', ' Value': 'value', ' Question': 'answer', ' Answer': 'question'}, inplace = True)\n",
    "\n",
    "# verifying column rename and investigating the format of the data\n",
    "print(jeopardy.head())"
   ]
  },
  {
   "cell_type": "markdown",
   "metadata": {},
   "source": [
    "2. Write a function that filters the dataset for questions that contains all of the words in a list of words. For example, when the list `[\"King\", \"England\"]` was passed to our function, the function returned a DataFrame of 49 rows. Every row had the strings `\"King\"` and `\"England\"` somewhere in its `\" Question\"`.\n",
    "\n",
    "   Test your function by printing out the column containing the question of each row of the dataset."
   ]
  },
  {
   "cell_type": "code",
   "execution_count": 2,
   "metadata": {
    "scrolled": true
   },
   "outputs": [
    {
     "name": "stdout",
     "output_type": "stream",
     "text": [
      "49\n",
      "4953                 Both England's King George V & FDR put their stamp of approval on this \"King of Hobbies\"\n",
      "14912       This country's King Louis IV was nicknamed \"Louis From Overseas\" because he was raised in England\n",
      "21511                            this man and his son ruled England following the execution of King Charles I\n",
      "23810    William the Conqueror was crowned King of England in Westminster Abbey on Christmas Day in this year\n",
      "27555                      This member of the Medici family was the mother-in-law of England's King Charles I\n",
      "Name: answer, dtype: object\n"
     ]
    }
   ],
   "source": [
    "# Initially attempted to use .isin and .str.contains without success. Found this article, https://stackoverflow.com/questions/26577516/how-to-test-if-a-string-contains-one-of-the-substrings-in-a-list-in-pandas, \n",
    "# and adapted the lambda function solution at the bottom to fit my needs\n",
    "\n",
    "\n",
    "searchfor = ['King', 'England']\n",
    "def search_answers(dataset, searchfor):\n",
    "    temporary_datase = dataset\n",
    "    temporary_datase[\"TrueFalse\"] = temporary_datase['answer'].apply(lambda x: 1 if all(i in x for i in searchfor) else 0)\n",
    "    return temporary_datase.answer[temporary_datase[\"TrueFalse\"] == 1]\n",
    "\n",
    "\n",
    "print(len(search_answers(jeopardy, searchfor)))\n",
    "print(search_answers(jeopardy, searchfor).head())"
   ]
  },
  {
   "cell_type": "markdown",
   "metadata": {},
   "source": [
    "3. Test your original function with a few different sets of words to try to find some ways your function breaks. Edit your function so it is more robust.\n",
    "\n",
    "   For example, think about capitalization. We probably want to find questions that contain the word `\"King\"` or `\"king\"`.\n",
    "   \n",
    "   You may also want to check to make sure you don't find rows that contain substrings of your given words. For example, our function found a question that didn't contain the word `\"king\"`, however it did contain the word `\"viking\"` &mdash; it found the `\"king\"` inside `\"viking\"`. Note that this also comes with some drawbacks &mdash; you would no longer find questions that contained words like `\"England's\"`."
   ]
  },
  {
   "cell_type": "code",
   "execution_count": 3,
   "metadata": {},
   "outputs": [
    {
     "name": "stdout",
     "output_type": "stream",
     "text": [
      "152\n",
      "4953                   both england's king george v & fdr put their stamp of approval on this \"king of hobbies\"\n",
      "6337     in retaliation for viking raids, this \"unready\" king of england attacks norse areas of the isle of man\n",
      "9191                   this king of england beat the odds to trounce the french in the 1415 battle of agincourt\n",
      "11710              this scotsman, the first stuart king of england, was called \"the wisest fool in christendom\"\n",
      "13454                                      it's the number that followed the last king of england named william\n",
      "Name: answer, dtype: object\n"
     ]
    }
   ],
   "source": [
    "# enter lowercase words only into the search for list\n",
    "\n",
    "searchfor = ['king', 'england']\n",
    "def search_answers(dataset, searchfor):\n",
    "    temporary_datase = dataset\n",
    "    temporary_datase['answer'] = temporary_datase['answer'].str.lower()\n",
    "    temporary_datase[\"TrueFalse\"] = temporary_datase['answer'].apply(lambda x: 1 if all(i in x for i in searchfor) else 0)\n",
    "    return temporary_datase.answer[temporary_datase[\"TrueFalse\"] == 1]\n",
    "\n",
    "\n",
    "print(len(search_answers(jeopardy, searchfor)))\n",
    "print(search_answers(jeopardy, searchfor).head())"
   ]
  },
  {
   "cell_type": "markdown",
   "metadata": {},
   "source": [
    "4. We may want to eventually compute aggregate statistics, like `.mean()` on the `\" Value\"` column. But right now, the values in that column are strings. Convert the`\" Value\"` column to floats. If you'd like to, you can create a new column with float values.\n",
    "\n",
    "   Now that you can filter the dataset of question, use your new column that contains the float values of each question to find the \"difficulty\" of certain topics. For example, what is the average value of questions that contain the word `\"King\"`?\n",
    "   \n",
    "   Make sure to use the dataset that contains the float values as the dataset you use in your filtering function."
   ]
  },
  {
   "cell_type": "code",
   "execution_count": 4,
   "metadata": {},
   "outputs": [
    {
     "name": "stdout",
     "output_type": "stream",
     "text": [
      "0    200.0\n",
      "1    200.0\n",
      "2    200.0\n",
      "3    200.0\n",
      "4    200.0\n",
      "Name: value_float, dtype: float64\n",
      "739.9884755451067\n",
      "886.8421052631579\n"
     ]
    }
   ],
   "source": [
    "jeopardy['value_float'] = jeopardy[\"value\"].str.replace(\"$\",\"\", regex=True)\n",
    "jeopardy['value_float'] = jeopardy[\"value_float\"].str.replace(\"None\",\"0\", regex=True)\n",
    "jeopardy['value_float'] = jeopardy[\"value_float\"].str.replace(\",\",\"\", regex=True)\n",
    "\n",
    "jeopardy['value_float'] = jeopardy['value_float'].astype(float, errors = 'raise')\n",
    "\n",
    "#print(jeopardy.value.head())\n",
    "#print(jeopardy.value_float.head())\n",
    "print(jeopardy.value_float.head())\n",
    "\n",
    "print(jeopardy.value_float.mean())\n",
    "print(jeopardy.value_float[jeopardy[\"TrueFalse\"] == 1].mean())"
   ]
  },
  {
   "cell_type": "markdown",
   "metadata": {},
   "source": [
    "5. Write a function that returns the count of unique answers to all of the questions in a dataset. For example, after filtering the entire dataset to only questions containing the word `\"King\"`, we could then find all of the unique answers to those questions. The answer \"Henry VIII\" appeared 55 times and was the most common answer."
   ]
  },
  {
   "cell_type": "code",
   "execution_count": 5,
   "metadata": {},
   "outputs": [
    {
     "name": "stdout",
     "output_type": "stream",
     "text": [
      "Henry VIII                   55\n",
      "Solomon                      35\n",
      "Richard III                  33\n",
      "Louis XIV                    31\n",
      "David                        30\n",
      "                             ..\n",
      "cardiac (in card I acted)     1\n",
      "Henderson                     1\n",
      "Computer                      1\n",
      "Indians                       1\n",
      "work                          1\n",
      "Name: question, Length: 5268, dtype: int64\n"
     ]
    }
   ],
   "source": [
    "# only search lowercase terms in the unique_questions variable\n",
    "\n",
    "unique_questions = ['king']\n",
    "def search_unique(dataset, unique_questions):\n",
    "    dataset['answer'] = dataset['answer'].str.lower()\n",
    "    dataset[\"TrueFalse2\"] = dataset['answer'].apply(lambda x: 1 if all(i in x for i in unique_questions) else 0)\n",
    "    return dataset.question[dataset[\"TrueFalse2\"] == 1].value_counts()\n",
    "\n",
    "print(search_unique(jeopardy, unique_questions))"
   ]
  },
  {
   "cell_type": "markdown",
   "metadata": {},
   "source": [
    "6. Explore from here! This is an incredibly rich dataset, and there are so many interesting things to discover. There are a few columns that we haven't even started looking at yet. Here are some ideas on ways to continue working with this data:\n",
    "\n",
    " * Investigate the ways in which questions change over time by filtering by the date. How many questions from the 90s use the word `\"Computer\"` compared to questions from the 2000s?\n",
    " * Is there a connection between the round and the category? Are you more likely to find certain categories, like `\"Literature\"` in Single Jeopardy or Double Jeopardy?\n",
    " * Build a system to quiz yourself. Grab random questions, and use the <a href=\"https://docs.python.org/3/library/functions.html#input\">input</a> function to get a response from the user. Check to see if that response was right or wrong."
   ]
  },
  {
   "cell_type": "code",
   "execution_count": 6,
   "metadata": {},
   "outputs": [
    {
     "name": "stdout",
     "output_type": "stream",
     "text": [
      "Number of time ['king'] appeared in an answer in our dataset\n",
      "7409\n",
      "Number of time ['king'] appeared in an answer in our dataset for the year 1984\n",
      "19\n",
      "Number of time ['king'] appeared in an answer in our dataset for the year 1994\n",
      "42\n",
      "Number of time ['king'] appeared in an answer in our dataset for the year 2004\n",
      "431\n",
      "Number of time ['king'] appeared in an answer in our dataset for the year 2014\n",
      "448\n"
     ]
    }
   ],
   "source": [
    "compare_questions = ['king']\n",
    "\n",
    "jeopardy[\"year\"]= jeopardy.air_date.apply(lambda air_date: air_date.split('-')[0])\n",
    "\n",
    "def search_unique(dataset, compare_questions):\n",
    "    dataset['answer'] = dataset['answer'].str.lower()\n",
    "    dataset[\"TrueFalse3\"] = dataset['answer'].apply(lambda x: 1 if all(i in x for i in compare_questions) else 0)\n",
    "    return dataset.question[dataset[\"TrueFalse3\"] == 1].count()\n",
    "\n",
    "print(\"Number of time \" + str(compare_questions) + \" appeared in an answer in our dataset\")\n",
    "print(search_unique(jeopardy, compare_questions))\n",
    "\n",
    "print(\"Number of time \" + str(compare_questions) + \" appeared in an answer in our dataset for the year 1984\")\n",
    "      \n",
    "def search_unique_timeframe(dataset, compare_questions, timeframe):\n",
    "    dataset['answer'] = dataset['answer'].str.lower()\n",
    "    dataset['correct_date'] = dataset['year'].apply(lambda y: 1 if y in timeframe else 0)\n",
    "    return dataset.year[(dataset[\"correct_date\"] == 1) & (dataset['TrueFalse3'] == 1)].count()\n",
    "\n",
    "\n",
    "question_1984 = search_unique_timeframe(jeopardy, compare_questions, '1984')\n",
    "print(question_1984)\n",
    "\n",
    "print(\"Number of time \" + str(compare_questions) + \" appeared in an answer in our dataset for the year 1994\")\n",
    "question_1994 = search_unique_timeframe(jeopardy, compare_questions, '1994')\n",
    "print(question_1994)\n",
    "\n",
    "print(\"Number of time \" + str(compare_questions) + \" appeared in an answer in our dataset for the year 2004\")\n",
    "question_2004 = search_unique_timeframe(jeopardy, compare_questions, '2004')\n",
    "print(question_2004)\n",
    "\n",
    "# 2011 is the latest year in the dataset. Found by investigating with print(jeopardy.year.unique())\n",
    "\n",
    "print(\"Number of time \" + str(compare_questions) + \" appeared in an answer in our dataset for the year 2014\")\n",
    "question_2011 = search_unique_timeframe(jeopardy, compare_questions, '2011')\n",
    "print(question_2011)\n"
   ]
  },
  {
   "cell_type": "markdown",
   "metadata": {},
   "source": [
    "## Solution"
   ]
  },
  {
   "cell_type": "markdown",
   "metadata": {},
   "source": [
    "7. Compare your program to our <a href=\"https://content.codecademy.com/PRO/independent-practice-projects/jeopardy/jeopardy_solution.zip\">sample solution code</a> - remember, that your program might look different from ours (and probably will) and that's okay!"
   ]
  },
  {
   "cell_type": "markdown",
   "metadata": {},
   "source": [
    "8. Great work! Visit <a href=\"https://discuss.codecademy.com/t/this-is-jeopardy-challenge-project-python-pandas/462365\">our forums</a> to compare your project to our sample solution code. You can also learn how to host your own solution on GitHub so you can share it with other learners! Your solution might look different from ours, and that's okay! There are multiple ways to solve these projects, and you'll learn more by seeing others' code."
   ]
  },
  {
   "cell_type": "code",
   "execution_count": 7,
   "metadata": {},
   "outputs": [
    {
     "name": "stdout",
     "output_type": "stream",
     "text": [
      "['2004' '2010' '2000' '2006' '2009' '1996' '2007' '1997' '2002' '2003'\n",
      " '2001' '1990' '1999' '2008' '2011' '2005' '1998' '2012' '1992' '1986'\n",
      " '1985' '1991' '1993' '1994' '1988' '1987' '1995' '1984' '1989']\n"
     ]
    }
   ],
   "source": [
    "print(jeopardy.year.unique())"
   ]
  },
  {
   "cell_type": "code",
   "execution_count": null,
   "metadata": {},
   "outputs": [],
   "source": []
  }
 ],
 "metadata": {
  "kernelspec": {
   "display_name": "Python 3 (ipykernel)",
   "language": "python",
   "name": "python3"
  },
  "language_info": {
   "codemirror_mode": {
    "name": "ipython",
    "version": 3
   },
   "file_extension": ".py",
   "mimetype": "text/x-python",
   "name": "python",
   "nbconvert_exporter": "python",
   "pygments_lexer": "ipython3",
   "version": "3.9.7"
  }
 },
 "nbformat": 4,
 "nbformat_minor": 2
}
